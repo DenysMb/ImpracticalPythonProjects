{
 "cells": [
  {
   "cell_type": "code",
   "execution_count": 12,
   "metadata": {},
   "outputs": [],
   "source": [
    "vowels = 'aeiouy'"
   ]
  },
  {
   "cell_type": "code",
   "execution_count": null,
   "metadata": {},
   "outputs": [],
   "source": [
    "word = list(input('Escreva uma palavra: '))\n",
    "\n",
    "if word[0] in vowels:\n",
    "    word.append('way')\n",
    "else:\n",
    "    word.append(word[0] + 'ay')\n",
    "    word.pop(0)\n",
    "\n",
    "print(\"\".join(word).lower())"
   ]
  },
  {
   "cell_type": "code",
   "execution_count": null,
   "metadata": {},
   "outputs": [],
   "source": [
    "phrase = input('Escreva uma frase: ').split()\n",
    "result = list()\n",
    "\n",
    "for string in phrase:\n",
    "    string = list(letter for letter in string if letter.isalnum())\n",
    "    \n",
    "    if string[0] in vowels:\n",
    "        string.append('way')\n",
    "    else:\n",
    "        string.append(string[0] + 'ay')\n",
    "        string.pop(0)\n",
    "    \n",
    "    result.append(''.join(string).lower())\n",
    "\n",
    "print(' '.join(result))"
   ]
  }
 ],
 "metadata": {
  "kernelspec": {
   "display_name": "Python 3",
   "language": "python",
   "name": "python3"
  },
  "language_info": {
   "codemirror_mode": {
    "name": "ipython",
    "version": 3
   },
   "file_extension": ".py",
   "mimetype": "text/x-python",
   "name": "python",
   "nbconvert_exporter": "python",
   "pygments_lexer": "ipython3",
   "version": "3.7.3"
  }
 },
 "nbformat": 4,
 "nbformat_minor": 2
}
