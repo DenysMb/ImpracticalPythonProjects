{
 "cells": [
  {
   "cell_type": "code",
   "execution_count": 34,
   "metadata": {},
   "outputs": [],
   "source": [
    "import random"
   ]
  },
  {
   "cell_type": "code",
   "execution_count": 3,
   "metadata": {},
   "outputs": [],
   "source": [
    "maleFirstName=('Miguel' ,'Davi' ,'Arthur' ,'Pedro' ,'Gabriel' ,'Bernardo' ,'Lucas' ,'Matheus' ,'Rafael' ,'Heitor' ,'Enzo' ,'Guilherme' ,'Nicolas' ,'Lorenzo' ,'Gustavo' ,'Felipe' ,'Samuel' ,'João Pedro' ,'Daniel' ,'Vitor' ,'Leonardo' ,'Henrique' ,'Theo' ,'Murilo' ,'Eduardo' ,'Pedro Henrique' ,'Pietro' ,'Cauã' ,'Isaac' ,'Caio' ,'Vinicius' ,'Benjamin' ,'João' ,'Lucca' ,'João Miguel' ,'Bryan' ,'Joaquim' ,'João Vitor' ,'Thiago' ,'Antônio' ,'Davi Lucas' ,'Francisco' ,'Enzo Gabriel' ,'Bruno' ,'Emanuel' ,'João Gabriel' ,'Ian' ,'Davi Luiz' ,'Rodrigo' ,'Otávio')\n",
    "femaleFirstName=('Sophia', 'Alice', 'Julia', 'Isabella', 'Manuela', 'Laura', 'Luiza', 'Valentina', 'Giovanna', 'Maria Eduarda', 'Helena', 'Beatriz', 'Maria Luiza', 'Lara', 'Mariana', 'Nicole', 'Rafaela', 'Heloísa', 'Isadora', 'Lívia', 'Maria Clara', 'Ana Clara', 'Lorena', 'Gabriela', 'Yasmin', 'Isabelly', 'Sarah', 'Ana Julia', 'Letícia', 'Ana Luiza', 'Melissa', 'Marina', 'Clara', 'Cecília', 'Esther', 'Emanuelly', 'Rebeca', 'Ana Beatriz', 'Lavínia', 'Vitória', 'Bianca', 'Catarina', 'Larissa', 'Maria Fernanda', 'Fernanda', 'Amanda', 'Alícia', 'Carolina', 'Agatha', 'Gabrielly')\n",
    "lastName=('Alves', 'Monteiro', 'Novaes', 'Mendes', 'Barros', 'Freitas', 'Barbosa', 'Pinto', 'Moura', 'Cavalcanti', 'Dias', 'Castro', 'Campos', 'Cardoso', 'Silva', 'Souza', 'Costa', 'Santos', 'Oliveira', 'Pereira', 'Rodrigues', 'Almeida', 'Nascimento', 'Lima', 'Araújo', 'Fernandes', 'Carvalho', 'Gomes', 'Martins', 'Rocha', 'Ribeiro', 'Rezende', 'Sales', 'Peixoto', 'Fogaça', 'Porto', 'Ribeiro', 'Duarte', 'Moraes', 'Ramos', 'Pereira', 'Ferreira', 'Silveira', 'Moreira', 'Teixeira', 'Caldeira', 'Vieira', 'Nogueira', 'da Costa', 'da Rocha', 'da Cruz', 'da Cunha', 'da Mata', 'da Rosa', 'da Mota', 'da Paz', 'da Luz', 'da Conceição', 'das Neves', 'Fernandes', 'Gonçalves', 'Rodrigues', 'Martins', 'Lopes', 'Gomes', 'Mendes', 'Nunes', 'Carvalho', 'Melo', 'Cardoso,', 'Pires', 'Jesus', 'Aragão', 'Viana', 'Farias')"
   ]
  },
  {
   "cell_type": "code",
   "execution_count": 43,
   "metadata": {},
   "outputs": [
    {
     "name": "stdout",
     "output_type": "stream",
     "text": [
      "Digite 'F' para nome feminino ou 'M' para nome masculino: M\n",
      "Francisco Nascimento Barbosa\n"
     ]
    }
   ],
   "source": [
    "middle = random.choice(lastName)\n",
    "last = random.choice(lastName)\n",
    "\n",
    "gender = input(\"Digite 'F' para nome feminino ou 'M' para nome masculino: \")\n",
    "\n",
    "if gender.lower() == 'f':\n",
    "    first = random.choice(femaleFirstName)\n",
    "    print(\"{} {} {}\".format(first, middle, last))\n",
    "elif gender.lower() == 'm':\n",
    "    first = random.choice(maleFirstName)\n",
    "    print(\"{} {} {}\".format(first, middle, last))\n",
    "else:\n",
    "    print(\"Valor inválido!\")"
   ]
  },
  {
   "cell_type": "code",
   "execution_count": null,
   "metadata": {},
   "outputs": [],
   "source": []
  }
 ],
 "metadata": {
  "kernelspec": {
   "display_name": "Python 3",
   "language": "python",
   "name": "python3"
  },
  "language_info": {
   "codemirror_mode": {
    "name": "ipython",
    "version": 3
   },
   "file_extension": ".py",
   "mimetype": "text/x-python",
   "name": "python",
   "nbconvert_exporter": "python",
   "pygments_lexer": "ipython3",
   "version": "3.7.3"
  }
 },
 "nbformat": 4,
 "nbformat_minor": 2
}
